{
 "cells": [
  {
   "cell_type": "code",
   "execution_count": 1,
   "metadata": {
    "collapsed": true
   },
   "outputs": [],
   "source": [
    "import gdal\n",
    "import ogr\n",
    "import time"
   ]
  },
  {
   "cell_type": "code",
   "execution_count": 2,
   "metadata": {
    "collapsed": true
   },
   "outputs": [],
   "source": [
    "# Computing time\n",
    "t = time.time()"
   ]
  },
  {
   "cell_type": "code",
   "execution_count": 3,
   "metadata": {
    "collapsed": false
   },
   "outputs": [
    {
     "name": "stdout",
     "output_type": "stream",
     "text": [
      "(71151.99577297922, -91544.79605918843, 153399.9557027978, -162566.59010958532)\n"
     ]
    }
   ],
   "source": [
    "# Import the catchment(.shp) and get layers, spatial reference and the extent (bounding box)\n",
    "catch1 = r\"C:\\Users\\Christian Bouman\\Documents\\2017-2018\\Thesis\\Data\\MOPEX\\Catch_11213500\\catch_11213500_EPSG3310.shp\"\n",
    "driver = ogr.GetDriverByName('ESRI Shapefile')\n",
    "catch1 = driver.Open(catch1, 0)\n",
    "layer = catch1.GetLayer()\n",
    "spatialRef = layer.GetSpatialRef()\n",
    "offset = 5000\n",
    "minX, maxX, minY, maxY = layer.GetExtent()\n",
    "bbox = ((minX-offset), (maxY+offset), (maxX+offset), (minY-offset))\n",
    "print(bbox)"
   ]
  },
  {
   "cell_type": "code",
   "execution_count": 4,
   "metadata": {
    "collapsed": true
   },
   "outputs": [],
   "source": [
    "# Open DEM and crop to bbox extent\n",
    "demfile = r\"C:\\Users\\Christian Bouman\\Documents\\2017-2018\\Thesis\\Data\\GMTED2010\\GMTED2010_EPSG3310.tif\"\n",
    "dem = gdal.Open(demfile)\n",
    "\n",
    "path_croppeddem = r\"C:\\Users\\Christian Bouman\\Documents\\2017-2018\\Thesis\\Data\\GMTED2010\\GMTED2010_EPSG3310_cropped.tif\"\n",
    "dem_cropped = gdal.Translate(path_croppeddem, dem, projWin=bbox)"
   ]
  },
  {
   "cell_type": "code",
   "execution_count": 5,
   "metadata": {
    "collapsed": false
   },
   "outputs": [],
   "source": [
    "# Split DEM in smaller tiles (20x20 pixels)\n",
    "geotransform = dem_cropped.GetGeoTransform()\n",
    "originX = geotransform[0]\n",
    "originY = geotransform[3]\n",
    "pixelWidth = geotransform[1]\n",
    "pixelHeight = geotransform[5]\n",
    "cols = dem_cropped.RasterXSize\n",
    "rows = dem_cropped.RasterYSize\n",
    "\n",
    "npixels = 20\n",
    "maxY = originY - rows*pixelHeight\n",
    "\n",
    "x = []\n",
    "y = []\n",
    "\n",
    "for i in range(0, cols+1, npixels):\n",
    "    x0 = originX\n",
    "    xnew = x0 + i*pixelWidth\n",
    "    x.append(xnew)\n",
    "\n",
    "for j in range(0, rows+1, npixels):\n",
    "    y0 = originY\n",
    "    ynew = y0 + j*pixelHeight\n",
    "    y.append(ynew)\n",
    "\n",
    "\n",
    "for k in range(1, len(y)):\n",
    "    for l in range(len(x)):\n",
    "        filename = 'tile_'+ str(k)+\", \"+str(l)\n",
    "        path_tiles = r\"C:\\Users\\Christian Bouman\\Documents\\2017-2018\\Thesis\\Data\\GMTED2010\\Tiles\\dem_\" +str(filename)+\".tiff\"\n",
    "        gdal.Translate(path_tiles, dem_cropped, projWin = [x[l-1], y[k-1], x[l], y[k]]) "
   ]
  },
  {
   "cell_type": "code",
   "execution_count": 6,
   "metadata": {
    "collapsed": false
   },
   "outputs": [
    {
     "name": "stdout",
     "output_type": "stream",
     "text": [
      "1.6875383853912354\n"
     ]
    }
   ],
   "source": [
    "#Computing time\n",
    "elapsed = time.time() - t\n",
    "print(elapsed)"
   ]
  }
 ],
 "metadata": {
  "kernelspec": {
   "display_name": "Python 3",
   "language": "python",
   "name": "python3"
  },
  "language_info": {
   "codemirror_mode": {
    "name": "ipython",
    "version": 3
   },
   "file_extension": ".py",
   "mimetype": "text/x-python",
   "name": "python",
   "nbconvert_exporter": "python",
   "pygments_lexer": "ipython3",
   "version": "3.6.0"
  }
 },
 "nbformat": 4,
 "nbformat_minor": 2
}
