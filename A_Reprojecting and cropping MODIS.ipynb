{
 "cells": [
  {
   "cell_type": "code",
   "execution_count": 1,
   "metadata": {
    "collapsed": true
   },
   "outputs": [],
   "source": [
    "import os\n",
    "import gdal\n",
    "import ogr\n",
    "import time\n",
    "from fnmatch import fnmatch"
   ]
  },
  {
   "cell_type": "code",
   "execution_count": 2,
   "metadata": {
    "collapsed": false
   },
   "outputs": [],
   "source": [
    "# Computing time\n",
    "t = time.time()"
   ]
  },
  {
   "cell_type": "code",
   "execution_count": 3,
   "metadata": {
    "collapsed": false
   },
   "outputs": [],
   "source": [
    "# Import the catchment(.shp) and get layers, spatial reference and the extent (bounding box)\n",
    "catch1 = r\"C:\\Users\\Christian Bouman\\Documents\\2017-2018\\Thesis\\Data\\MOPEX\\Catch_11213500\\catch_11213500_EPSG3310.shp\"\n",
    "driver = ogr.GetDriverByName('ESRI Shapefile')\n",
    "catch1 = driver.Open(catch1, 0)\n",
    "layer = catch1.GetLayer()\n",
    "spatialRef = layer.GetSpatialRef()\n",
    "offset = 5000\n",
    "minX, maxX, minY, maxY = layer.GetExtent()\n",
    "bbox = ((minX-offset), (maxY+offset), (maxX+offset), (minY-offset))"
   ]
  },
  {
   "cell_type": "code",
   "execution_count": 4,
   "metadata": {
    "collapsed": false
   },
   "outputs": [],
   "source": [
    "# Making a list of MODIS .hdf files\n",
    "list1=list()\n",
    "\n",
    "root = r'C:\\Users\\Christian Bouman\\Documents\\2017-2018\\Thesis\\Data\\MODIS MOD10C1'\n",
    "pattern = \"*.hdf\"\n",
    "\n",
    "for path, subdirs, files in os.walk(root):\n",
    "    for name in files:\n",
    "        if fnmatch(name, pattern):\n",
    "           list1.append(os.path.join('', name))"
   ]
  },
  {
   "cell_type": "code",
   "execution_count": 5,
   "metadata": {
    "collapsed": false
   },
   "outputs": [],
   "source": [
    "# Read MODIS data subdatasets for the list, reproject and crop to bbox extent\n",
    "for i in range(len(list1)):\n",
    "    file = list1[i]\n",
    "    ds = gdal.Open(list1[i])\n",
    "    sds = gdal.Open(ds.GetSubDatasets()[0][0])\n",
    "    path1 = r\"C:\\Users\\Christian Bouman\\Documents\\2017-2018\\Thesis\\Data\\MODIS MOD10C1\\Transformed data\\_\" + str(file) + \".tif\"\n",
    "    sds_trans = gdal.Warp(path1, sds, dstSRS='EPSG:3310')\n",
    "    path2 = r\"C:\\Users\\Christian Bouman\\Documents\\2017-2018\\Thesis\\Data\\MODIS MOD10C1\\Cropped data\\_\" + str(file) + \".tif\"\n",
    "    sds_crop = gdal.Translate(path2, sds_trans, projWin=bbox)"
   ]
  },
  {
   "cell_type": "code",
   "execution_count": 6,
   "metadata": {
    "collapsed": false
   },
   "outputs": [
    {
     "name": "stdout",
     "output_type": "stream",
     "text": [
      "357.4282352924347\n"
     ]
    }
   ],
   "source": [
    "#Computing time\n",
    "elapsed = time.time() - t\n",
    "print(elapsed)"
   ]
  }
 ],
 "metadata": {
  "kernelspec": {
   "display_name": "Python 3",
   "language": "python",
   "name": "python3"
  },
  "language_info": {
   "codemirror_mode": {
    "name": "ipython",
    "version": 3
   },
   "file_extension": ".py",
   "mimetype": "text/x-python",
   "name": "python",
   "nbconvert_exporter": "python",
   "pygments_lexer": "ipython3",
   "version": "3.6.0"
  }
 },
 "nbformat": 4,
 "nbformat_minor": 2
}
